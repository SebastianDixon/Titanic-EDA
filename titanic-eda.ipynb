{
 "cells": [
  {
   "cell_type": "markdown",
   "id": "f035e677",
   "metadata": {
    "papermill": {
     "duration": 0.033342,
     "end_time": "2021-08-02T09:17:22.730400",
     "exception": false,
     "start_time": "2021-08-02T09:17:22.697058",
     "status": "completed"
    },
    "tags": []
   },
   "source": [
    "# Titanic Exploratory Data Analysis \n",
    "\n",
    "### 1. Data exploration\n",
    "### 2. Feature engineering\n",
    "### 3. Data preprocessing\n",
    "### 4. Model building\n",
    "### 5. Model tuning\n",
    "### 6. Model comparison\n",
    "### 7. Results\n",
    "\n",
    "Ken Jee's project example was used to learn about the process of dealing with this problem"
   ]
  },
  {
   "cell_type": "code",
   "execution_count": 1,
   "id": "330b0e3a",
   "metadata": {
    "_cell_guid": "b1076dfc-b9ad-4769-8c92-a6c4dae69d19",
    "_uuid": "8f2839f25d086af736a60e9eeb907d3b93b6e0e5",
    "execution": {
     "iopub.execute_input": "2021-08-02T09:17:22.805246Z",
     "iopub.status.busy": "2021-08-02T09:17:22.801493Z",
     "iopub.status.idle": "2021-08-02T09:17:22.810118Z",
     "shell.execute_reply": "2021-08-02T09:17:22.810579Z",
     "shell.execute_reply.started": "2021-08-02T08:43:04.421710Z"
    },
    "papermill": {
     "duration": 0.049072,
     "end_time": "2021-08-02T09:17:22.810894",
     "exception": false,
     "start_time": "2021-08-02T09:17:22.761822",
     "status": "completed"
    },
    "tags": []
   },
   "outputs": [
    {
     "name": "stdout",
     "output_type": "stream",
     "text": [
      "/kaggle/input/titanic/train.csv\n",
      "/kaggle/input/titanic/test.csv\n",
      "/kaggle/input/titanic/gender_submission.csv\n"
     ]
    }
   ],
   "source": [
    "import numpy as np # linear algebra\n",
    "import pandas as pd # data processing, CSV file I/O (e.g. pd.read_csv)\n",
    "import matplotlib.pyplot as plt\n",
    "\n",
    "import os\n",
    "for dirname, _, filenames in os.walk('/kaggle/input'):\n",
    "    for filename in filenames:\n",
    "        print(os.path.join(dirname, filename))"
   ]
  },
  {
   "cell_type": "code",
   "execution_count": 2,
   "id": "3ebaca91",
   "metadata": {
    "execution": {
     "iopub.execute_input": "2021-08-02T09:17:22.878786Z",
     "iopub.status.busy": "2021-08-02T09:17:22.877827Z",
     "iopub.status.idle": "2021-08-02T09:17:22.992926Z",
     "shell.execute_reply": "2021-08-02T09:17:22.993454Z",
     "shell.execute_reply.started": "2021-08-02T08:43:04.440734Z"
    },
    "papermill": {
     "duration": 0.15074,
     "end_time": "2021-08-02T09:17:22.993649",
     "exception": false,
     "start_time": "2021-08-02T09:17:22.842909",
     "status": "completed"
    },
    "tags": []
   },
   "outputs": [],
   "source": [
    "training = pd.read_csv('/kaggle/input/titanic/train.csv')\n",
    "test = pd.read_csv('/kaggle/input/titanic/test.csv')\n",
    "%matplotlib inline"
   ]
  },
  {
   "cell_type": "markdown",
   "id": "e1d43e55",
   "metadata": {
    "papermill": {
     "duration": 0.031264,
     "end_time": "2021-08-02T09:17:23.058104",
     "exception": false,
     "start_time": "2021-08-02T09:17:23.026840",
     "status": "completed"
    },
    "tags": []
   },
   "source": [
    "## 1) Data exploration\n",
    "Get an idea of the shape of the data, split numerical and non numerical data into dataframes"
   ]
  },
  {
   "cell_type": "code",
   "execution_count": 3,
   "id": "9429b170",
   "metadata": {
    "execution": {
     "iopub.execute_input": "2021-08-02T09:17:23.125774Z",
     "iopub.status.busy": "2021-08-02T09:17:23.124757Z",
     "iopub.status.idle": "2021-08-02T09:17:23.140784Z",
     "shell.execute_reply": "2021-08-02T09:17:23.141329Z",
     "shell.execute_reply.started": "2021-08-02T08:43:04.561845Z"
    },
    "papermill": {
     "duration": 0.05142,
     "end_time": "2021-08-02T09:17:23.141541",
     "exception": false,
     "start_time": "2021-08-02T09:17:23.090121",
     "status": "completed"
    },
    "tags": []
   },
   "outputs": [],
   "source": [
    "num_train = training[['SibSp', 'Age', 'Parch', 'Fare']]\n",
    "nonnum_train = training[['Survived', 'Pclass', 'Sex', 'Ticket', 'Cabin', 'Embarked']]"
   ]
  },
  {
   "cell_type": "code",
   "execution_count": 4,
   "id": "d1177b46",
   "metadata": {
    "execution": {
     "iopub.execute_input": "2021-08-02T09:17:23.210438Z",
     "iopub.status.busy": "2021-08-02T09:17:23.209699Z",
     "iopub.status.idle": "2021-08-02T09:17:23.864181Z",
     "shell.execute_reply": "2021-08-02T09:17:23.864735Z",
     "shell.execute_reply.started": "2021-08-02T08:43:04.571469Z"
    },
    "papermill": {
     "duration": 0.690492,
     "end_time": "2021-08-02T09:17:23.864918",
     "exception": false,
     "start_time": "2021-08-02T09:17:23.174426",
     "status": "completed"
    },
    "tags": []
   },
   "outputs": [
    {
     "data": {
      "image/png": "[encoded data removed]",
      "text/plain": [
       "<Figure size 432x288 with 1 Axes>"
      ]
     },
     "metadata": {
      "needs_background": "light"
     },
     "output_type": "display_data"
    },
    {
     "data": {
      "image/png": "[encoded data removed]",
      "text/plain": [
       "<Figure size 432x288 with 1 Axes>"
      ]
     },
     "metadata": {
      "needs_background": "light"
     },
     "output_type": "display_data"
    },
    {
     "data": {
      "image/png": "[encoded data removed]",
      "text/plain": [
       "<Figure size 432x288 with 1 Axes>"
      ]
     },
     "metadata": {
      "needs_background": "light"
     },
     "output_type": "display_data"
    },
    {
     "data": {
      "image/png": "[encoded data removed]",
      "text/plain": [
       "<Figure size 432x288 with 1 Axes>"
      ]
     },
     "metadata": {
      "needs_background": "light"
     },
     "output_type": "display_data"
    }
   ],
   "source": [
    "# distribution for all numberical features\n",
    "for i in num_train.columns:\n",
    "    plt.hist(num_train[i])\n",
    "    plt.title(i)\n",
    "    plt.show()"
   ]
  },
  {
   "cell_type": "markdown",
   "id": "f427d8ea",
   "metadata": {
    "papermill": {
     "duration": 0.034098,
     "end_time": "2021-08-02T09:17:23.933604",
     "exception": false,
     "start_time": "2021-08-02T09:17:23.899506",
     "status": "completed"
    },
    "tags": []
   },
   "source": [
    "**Age is the only numerical feature that shows a loose normal distribution and is reasonably scaled.**\n",
    "\n",
    "**All other features dont show any normal distribution and could be normalised.**"
   ]
  },
  {
   "cell_type": "code",
   "execution_count": 5,
   "id": "6372eaf9",
   "metadata": {
    "execution": {
     "iopub.execute_input": "2021-08-02T09:17:24.005780Z",
     "iopub.status.busy": "2021-08-02T09:17:24.005026Z",
     "iopub.status.idle": "2021-08-02T09:17:24.051955Z",
     "shell.execute_reply": "2021-08-02T09:17:24.052438Z",
     "shell.execute_reply.started": "2021-08-02T08:43:05.248789Z"
    },
    "papermill": {
     "duration": 0.084744,
     "end_time": "2021-08-02T09:17:24.052633",
     "exception": false,
     "start_time": "2021-08-02T09:17:23.967889",
     "status": "completed"
    },
    "tags": []
   },
   "outputs": [
    {
     "data": {
      "text/html": [
       "<div>\n",
       "<style scoped>\n",
       "    .dataframe tbody tr th:only-of-type {\n",
       "        vertical-align: middle;\n",
       "    }\n",
       "\n",
       "    .dataframe tbody tr th {\n",
       "        vertical-align: top;\n",
       "    }\n",
       "\n",
       "    .dataframe thead th {\n",
       "        text-align: right;\n",
       "    }\n",
       "</style>\n",
       "<table border=\"1\" class=\"dataframe\">\n",
       "  <thead>\n",
       "    <tr style=\"text-align: right;\">\n",
       "      <th></th>\n",
       "      <th>Age</th>\n",
       "      <th>Fare</th>\n",
       "      <th>Parch</th>\n",
       "      <th>SibSp</th>\n",
       "    </tr>\n",
       "    <tr>\n",
       "      <th>Survived</th>\n",
       "      <th></th>\n",
       "      <th></th>\n",
       "      <th></th>\n",
       "      <th></th>\n",
       "    </tr>\n",
       "  </thead>\n",
       "  <tbody>\n",
       "    <tr>\n",
       "      <th>0</th>\n",
       "      <td>30.626179</td>\n",
       "      <td>22.117887</td>\n",
       "      <td>0.329690</td>\n",
       "      <td>0.553734</td>\n",
       "    </tr>\n",
       "    <tr>\n",
       "      <th>1</th>\n",
       "      <td>28.343690</td>\n",
       "      <td>48.395408</td>\n",
       "      <td>0.464912</td>\n",
       "      <td>0.473684</td>\n",
       "    </tr>\n",
       "  </tbody>\n",
       "</table>\n",
       "</div>"
      ],
      "text/plain": [
       "                Age       Fare     Parch     SibSp\n",
       "Survived                                          \n",
       "0         30.626179  22.117887  0.329690  0.553734\n",
       "1         28.343690  48.395408  0.464912  0.473684"
      ]
     },
     "execution_count": 5,
     "metadata": {},
     "output_type": "execute_result"
    }
   ],
   "source": [
    "pd.pivot_table(training, index = 'Survived', values = num_train)"
   ]
  },
  {
   "cell_type": "markdown",
   "id": "178bc32b",
   "metadata": {
    "papermill": {
     "duration": 0.035685,
     "end_time": "2021-08-02T09:17:24.123327",
     "exception": false,
     "start_time": "2021-08-02T09:17:24.087642",
     "status": "completed"
    },
    "tags": []
   },
   "source": [
    "**This table compares the numerical features with survived.**\n",
    "\n",
    "**On average, younger passengers survived, and those who spent more on their fare survived.**\n",
    "\n",
    "**Being apart of a family looks to improve your chances of survival, but having a spouse or more siblings decreases your chance of survival.\n",
    "This is difficult to draw any conclusions from at this stage.**\n",
    "\n",
    "**From this table the largest influencing feature on survivability is Fare.**"
   ]
  },
  {
   "cell_type": "code",
   "execution_count": 6,
   "id": "c763c50d",
   "metadata": {
    "execution": {
     "iopub.execute_input": "2021-08-02T09:17:24.197654Z",
     "iopub.status.busy": "2021-08-02T09:17:24.196983Z",
     "iopub.status.idle": "2021-08-02T09:17:37.527914Z",
     "shell.execute_reply": "2021-08-02T09:17:37.526994Z",
     "shell.execute_reply.started": "2021-08-02T08:43:05.282628Z"
    },
    "papermill": {
     "duration": 13.369369,
     "end_time": "2021-08-02T09:17:37.528063",
     "exception": false,
     "start_time": "2021-08-02T09:17:24.158694",
     "status": "completed"
    },
    "scrolled": true,
    "tags": []
   },
   "outputs": [
    {
     "data": {
      "image/png": "[encoded data removed]",
      "text/plain": [
       "<Figure size 432x288 with 1 Axes>"
      ]
     },
     "metadata": {
      "needs_background": "light"
     },
     "output_type": "display_data"
    },
    {
     "data": {
      "image/png": "[encoded data removed]",
      "text/plain": [
       "<Figure size 432x288 with 1 Axes>"
      ]
     },
     "metadata": {
      "needs_background": "light"
     },
     "output_type": "display_data"
    },
    {
     "data": {
      "image/png": "[encoded data removed]",
      "text/plain": [
       "<Figure size 432x288 with 1 Axes>"
      ]
     },
     "metadata": {
      "needs_background": "light"
     },
     "output_type": "display_data"
    },
    {
     "data": {
      "image/png": "[encoded data removed]",
      "text/plain": [
       "<Figure size 432x288 with 1 Axes>"
      ]
     },
     "metadata": {
      "needs_background": "light"
     },
     "output_type": "display_data"
    },
    {
     "data": {
      "image/png": "[encoded data removed]",
      "text/plain": [
       "<Figure size 432x288 with 1 Axes>"
      ]
     },
     "metadata": {
      "needs_background": "light"
     },
     "output_type": "display_data"
    },
    {
     "data": {
      "image/png": "[encoded data removed]",
      "text/plain": [
       "<Figure size 432x288 with 1 Axes>"
      ]
     },
     "metadata": {
      "needs_background": "light"
     },
     "output_type": "display_data"
    }
   ],
   "source": [
    "for i in nonnum_train.columns:\n",
    "    freq_series = pd.Series(nonnum_train[i].value_counts())\n",
    "\n",
    "    plt.figure()\n",
    "    fig = freq_series.plot(kind='bar')\n",
    "    fig.set_title(i)\n",
    "    fig.set_ylabel('Deaths')"
   ]
  },
  {
   "cell_type": "markdown",
   "id": "92c9de55",
   "metadata": {
    "papermill": {
     "duration": 0.040485,
     "end_time": "2021-08-02T09:17:37.608772",
     "exception": false,
     "start_time": "2021-08-02T09:17:37.568287",
     "status": "completed"
    },
    "tags": []
   },
   "source": [
    "**From these bar charts, certain features show distinct correlation to the number of deaths, including: pclass, sex and embarked.\n",
    "Further exploration of these features might show meaning behind the data.**\n",
    "\n",
    "**Other features, cabin and ticket are messy, making it hard to derive meaning from.**"
   ]
  },
  {
   "cell_type": "code",
   "execution_count": 7,
   "id": "9ca2350e",
   "metadata": {
    "execution": {
     "iopub.execute_input": "2021-08-02T09:17:37.697991Z",
     "iopub.status.busy": "2021-08-02T09:17:37.697258Z",
     "iopub.status.idle": "2021-08-02T09:17:37.741910Z",
     "shell.execute_reply": "2021-08-02T09:17:37.742614Z",
     "shell.execute_reply.started": "2021-08-02T08:43:18.610873Z"
    },
    "papermill": {
     "duration": 0.094196,
     "end_time": "2021-08-02T09:17:37.742853",
     "exception": false,
     "start_time": "2021-08-02T09:17:37.648657",
     "status": "completed"
    },
    "tags": []
   },
   "outputs": [
    {
     "name": "stdout",
     "output_type": "stream",
     "text": [
      "Pclass      1   2    3\n",
      "Survived              \n",
      "0          80  97  372\n",
      "1         136  87  119\n",
      "Embarked   C   Q    S\n",
      "Survived             \n",
      "0         75  47  427\n",
      "1         93  30  217\n",
      "Sex       female  male\n",
      "Survived              \n",
      "0             81   468\n",
      "1            233   109\n"
     ]
    }
   ],
   "source": [
    "print(pd.pivot_table(nonnum_train, index = 'Survived', columns = 'Pclass', values = 'Ticket' ,aggfunc ='count'))\n",
    "print(pd.pivot_table(nonnum_train, index = 'Survived', columns = 'Embarked', values = 'Ticket' ,aggfunc ='count'))\n",
    "print(pd.pivot_table(nonnum_train, index = 'Survived', columns = 'Sex', values = 'Ticket' ,aggfunc ='count'))"
   ]
  },
  {
   "cell_type": "code",
   "execution_count": 8,
   "id": "2c2c5ed7",
   "metadata": {
    "execution": {
     "iopub.execute_input": "2021-08-02T09:17:37.831381Z",
     "iopub.status.busy": "2021-08-02T09:17:37.830736Z",
     "iopub.status.idle": "2021-08-02T09:17:37.833466Z",
     "shell.execute_reply": "2021-08-02T09:17:37.833976Z",
     "shell.execute_reply.started": "2021-08-02T08:43:18.656620Z"
    },
    "papermill": {
     "duration": 0.05058,
     "end_time": "2021-08-02T09:17:37.834140",
     "exception": false,
     "start_time": "2021-08-02T09:17:37.783560",
     "status": "completed"
    },
    "tags": []
   },
   "outputs": [
    {
     "data": {
      "text/plain": [
       "B96 B98        4\n",
       "C23 C25 C27    4\n",
       "G6             4\n",
       "E101           3\n",
       "D              3\n",
       "F33            3\n",
       "F2             3\n",
       "C22 C26        3\n",
       "C92            2\n",
       "C68            2\n",
       "Name: Cabin, dtype: int64"
      ]
     },
     "execution_count": 8,
     "metadata": {},
     "output_type": "execute_result"
    }
   ],
   "source": [
    "training['Cabin'].value_counts().head(10)"
   ]
  },
  {
   "cell_type": "markdown",
   "id": "bd7c1e4a",
   "metadata": {
    "papermill": {
     "duration": 0.039657,
     "end_time": "2021-08-02T09:17:37.914125",
     "exception": false,
     "start_time": "2021-08-02T09:17:37.874468",
     "status": "completed"
    },
    "tags": []
   },
   "source": [
    "## 2) Feature engineering"
   ]
  },
  {
   "cell_type": "code",
   "execution_count": 9,
   "id": "47114557",
   "metadata": {
    "execution": {
     "iopub.execute_input": "2021-08-02T09:17:37.998932Z",
     "iopub.status.busy": "2021-08-02T09:17:37.998233Z",
     "iopub.status.idle": "2021-08-02T09:17:38.027538Z",
     "shell.execute_reply": "2021-08-02T09:17:38.027010Z",
     "shell.execute_reply.started": "2021-08-02T08:43:18.668716Z"
    },
    "papermill": {
     "duration": 0.072471,
     "end_time": "2021-08-02T09:17:38.027692",
     "exception": false,
     "start_time": "2021-08-02T09:17:37.955221",
     "status": "completed"
    },
    "tags": []
   },
   "outputs": [
    {
     "name": "stdout",
     "output_type": "stream",
     "text": [
      "0    687\n",
      "1    180\n",
      "2     16\n",
      "3      6\n",
      "4      2\n",
      "Name: Cabin_mul, dtype: int64\n"
     ]
    },
    {
     "data": {
      "text/html": [
       "<div>\n",
       "<style scoped>\n",
       "    .dataframe tbody tr th:only-of-type {\n",
       "        vertical-align: middle;\n",
       "    }\n",
       "\n",
       "    .dataframe tbody tr th {\n",
       "        vertical-align: top;\n",
       "    }\n",
       "\n",
       "    .dataframe thead th {\n",
       "        text-align: right;\n",
       "    }\n",
       "</style>\n",
       "<table border=\"1\" class=\"dataframe\">\n",
       "  <thead>\n",
       "    <tr style=\"text-align: right;\">\n",
       "      <th>Cabin_mul</th>\n",
       "      <th>0</th>\n",
       "      <th>1</th>\n",
       "      <th>2</th>\n",
       "      <th>3</th>\n",
       "      <th>4</th>\n",
       "    </tr>\n",
       "    <tr>\n",
       "      <th>Survived</th>\n",
       "      <th></th>\n",
       "      <th></th>\n",
       "      <th></th>\n",
       "      <th></th>\n",
       "      <th></th>\n",
       "    </tr>\n",
       "  </thead>\n",
       "  <tbody>\n",
       "    <tr>\n",
       "      <th>0</th>\n",
       "      <td>481.0</td>\n",
       "      <td>58.0</td>\n",
       "      <td>7.0</td>\n",
       "      <td>3.0</td>\n",
       "      <td>NaN</td>\n",
       "    </tr>\n",
       "    <tr>\n",
       "      <th>1</th>\n",
       "      <td>206.0</td>\n",
       "      <td>122.0</td>\n",
       "      <td>9.0</td>\n",
       "      <td>3.0</td>\n",
       "      <td>2.0</td>\n",
       "    </tr>\n",
       "  </tbody>\n",
       "</table>\n",
       "</div>"
      ],
      "text/plain": [
       "Cabin_mul      0      1    2    3    4\n",
       "Survived                              \n",
       "0          481.0   58.0  7.0  3.0  NaN\n",
       "1          206.0  122.0  9.0  3.0  2.0"
      ]
     },
     "execution_count": 9,
     "metadata": {},
     "output_type": "execute_result"
    }
   ],
   "source": [
    "lam = (lambda x: 0 if pd.isna(x) else len(x.split(\" \")))\n",
    "# function returns 0 if value is not available in df, return length of list if value(s) found\n",
    "training['Cabin_mul'] = training.Cabin.apply(lam)\n",
    "print(training['Cabin_mul'].value_counts())\n",
    "\n",
    "pd.pivot_table(training, index = 'Survived', columns = 'Cabin_mul', values = 'Ticket' ,aggfunc ='count')"
   ]
  },
  {
   "cell_type": "markdown",
   "id": "6183a8d3",
   "metadata": {
    "papermill": {
     "duration": 0.040595,
     "end_time": "2021-08-02T09:17:38.110390",
     "exception": false,
     "start_time": "2021-08-02T09:17:38.069795",
     "status": "completed"
    },
    "tags": []
   },
   "source": [
    "**creating a new feature via a function to return the number of cabins booked under a single ticket.\n",
    "the data is incomplete, showing the majority of tickets with no cabin, however it shouldnt be a problem**\n",
    "\n",
    "**this column is useful for determining if booking multiple cabins influences survival rates.**\n",
    "\n",
    "**inside the table, comparison between survival and cabins_mul shows a increase in survival rates with multiple cabins (2+) in a range of 50% to 100% survival, greater than the 38% chance of survival with fewer cabins**\n",
    "\n",
    "**this proves to be a useful feature of the dataset as the data shows correlation to the target feature**"
   ]
  },
  {
   "cell_type": "code",
   "execution_count": 10,
   "id": "d34913ff",
   "metadata": {
    "execution": {
     "iopub.execute_input": "2021-08-02T09:17:38.207644Z",
     "iopub.status.busy": "2021-08-02T09:17:38.204243Z",
     "iopub.status.idle": "2021-08-02T09:17:38.232125Z",
     "shell.execute_reply": "2021-08-02T09:17:38.231471Z",
     "shell.execute_reply.started": "2021-08-02T08:43:18.703681Z"
    },
    "papermill": {
     "duration": 0.081,
     "end_time": "2021-08-02T09:17:38.232264",
     "exception": false,
     "start_time": "2021-08-02T09:17:38.151264",
     "status": "completed"
    },
    "tags": []
   },
   "outputs": [
    {
     "name": "stdout",
     "output_type": "stream",
     "text": [
      "n    687\n",
      "C     59\n",
      "B     47\n",
      "D     33\n",
      "E     32\n",
      "A     15\n",
      "F     13\n",
      "G      4\n",
      "T      1\n",
      "Name: Cabin_let, dtype: int64\n"
     ]
    },
    {
     "data": {
      "text/html": [
       "<div>\n",
       "<style scoped>\n",
       "    .dataframe tbody tr th:only-of-type {\n",
       "        vertical-align: middle;\n",
       "    }\n",
       "\n",
       "    .dataframe tbody tr th {\n",
       "        vertical-align: top;\n",
       "    }\n",
       "\n",
       "    .dataframe thead th {\n",
       "        text-align: right;\n",
       "    }\n",
       "</style>\n",
       "<table border=\"1\" class=\"dataframe\">\n",
       "  <thead>\n",
       "    <tr style=\"text-align: right;\">\n",
       "      <th>Cabin_let</th>\n",
       "      <th>A</th>\n",
       "      <th>B</th>\n",
       "      <th>C</th>\n",
       "      <th>D</th>\n",
       "      <th>E</th>\n",
       "      <th>F</th>\n",
       "      <th>G</th>\n",
       "      <th>T</th>\n",
       "      <th>n</th>\n",
       "    </tr>\n",
       "    <tr>\n",
       "      <th>Survived</th>\n",
       "      <th></th>\n",
       "      <th></th>\n",
       "      <th></th>\n",
       "      <th></th>\n",
       "      <th></th>\n",
       "      <th></th>\n",
       "      <th></th>\n",
       "      <th></th>\n",
       "      <th></th>\n",
       "    </tr>\n",
       "  </thead>\n",
       "  <tbody>\n",
       "    <tr>\n",
       "      <th>0</th>\n",
       "      <td>8.0</td>\n",
       "      <td>12.0</td>\n",
       "      <td>24.0</td>\n",
       "      <td>8.0</td>\n",
       "      <td>8.0</td>\n",
       "      <td>5.0</td>\n",
       "      <td>2.0</td>\n",
       "      <td>1.0</td>\n",
       "      <td>481.0</td>\n",
       "    </tr>\n",
       "    <tr>\n",
       "      <th>1</th>\n",
       "      <td>7.0</td>\n",
       "      <td>35.0</td>\n",
       "      <td>35.0</td>\n",
       "      <td>25.0</td>\n",
       "      <td>24.0</td>\n",
       "      <td>8.0</td>\n",
       "      <td>2.0</td>\n",
       "      <td>NaN</td>\n",
       "      <td>206.0</td>\n",
       "    </tr>\n",
       "  </tbody>\n",
       "</table>\n",
       "</div>"
      ],
      "text/plain": [
       "Cabin_let    A     B     C     D     E    F    G    T      n\n",
       "Survived                                                    \n",
       "0          8.0  12.0  24.0   8.0   8.0  5.0  2.0  1.0  481.0\n",
       "1          7.0  35.0  35.0  25.0  24.0  8.0  2.0  NaN  206.0"
      ]
     },
     "execution_count": 10,
     "metadata": {},
     "output_type": "execute_result"
    }
   ],
   "source": [
    "lam2 = (lambda x: str(x)[0])\n",
    "# function returns first item inside string list, returning the letter of the cabin, or lack of cabin object\n",
    "training['Cabin_let'] = training['Cabin'].apply(lam2)\n",
    "print(training['Cabin_let'].value_counts())\n",
    "pd.pivot_table(training, index = 'Survived', columns = 'Cabin_let', values = 'Ticket' ,aggfunc ='count')"
   ]
  },
  {
   "cell_type": "markdown",
   "id": "7a420ce6",
   "metadata": {
    "papermill": {
     "duration": 0.04144,
     "end_time": "2021-08-02T09:17:38.315816",
     "exception": false,
     "start_time": "2021-08-02T09:17:38.274376",
     "status": "completed"
    },
    "tags": []
   },
   "source": [
    "**The table comparing the letters on the ticket and survival shows certain tickets which increase or decrease rate of survival within realistic bounds**\n",
    "\n",
    "**the result of this feature engineering proves to be a useful feature of the dataset as the data shows correlation to the column survival**"
   ]
  },
  {
   "cell_type": "code",
   "execution_count": 11,
   "id": "d48024b8",
   "metadata": {
    "execution": {
     "iopub.execute_input": "2021-08-02T09:17:38.410684Z",
     "iopub.status.busy": "2021-08-02T09:17:38.409767Z",
     "iopub.status.idle": "2021-08-02T09:17:38.413350Z",
     "shell.execute_reply": "2021-08-02T09:17:38.412821Z",
     "shell.execute_reply.started": "2021-08-02T08:43:18.742106Z"
    },
    "papermill": {
     "duration": 0.055677,
     "end_time": "2021-08-02T09:17:38.413497",
     "exception": false,
     "start_time": "2021-08-02T09:17:38.357820",
     "status": "completed"
    },
    "tags": []
   },
   "outputs": [],
   "source": [
    "def ticket_str(x):\n",
    "    p1 = ''.join(x.split(\" \")[:-1])\n",
    "    p1 = p1.replace('/', '').replace('.', '').lower()\n",
    "    return p1\n",
    "    \n",
    "def ticket_num(x):\n",
    "    if x.isnumeric():\n",
    "        return 1\n",
    "    return 0\n",
    "\n",
    "training['Ticket_str'] = training['Ticket'].apply(ticket_str)\n",
    "training['Ticket_num'] = training['Ticket'].apply(ticket_num)"
   ]
  },
  {
   "cell_type": "code",
   "execution_count": 12,
   "id": "6e3cdff8",
   "metadata": {
    "execution": {
     "iopub.execute_input": "2021-08-02T09:17:38.509065Z",
     "iopub.status.busy": "2021-08-02T09:17:38.505694Z",
     "iopub.status.idle": "2021-08-02T09:17:38.521525Z",
     "shell.execute_reply": "2021-08-02T09:17:38.520857Z",
     "shell.execute_reply.started": "2021-08-02T08:43:18.756234Z"
    },
    "papermill": {
     "duration": 0.066151,
     "end_time": "2021-08-02T09:17:38.521681",
     "exception": false,
     "start_time": "2021-08-02T09:17:38.455530",
     "status": "completed"
    },
    "tags": []
   },
   "outputs": [
    {
     "data": {
      "text/html": [
       "<div>\n",
       "<style scoped>\n",
       "    .dataframe tbody tr th:only-of-type {\n",
       "        vertical-align: middle;\n",
       "    }\n",
       "\n",
       "    .dataframe tbody tr th {\n",
       "        vertical-align: top;\n",
       "    }\n",
       "\n",
       "    .dataframe thead th {\n",
       "        text-align: right;\n",
       "    }\n",
       "</style>\n",
       "<table border=\"1\" class=\"dataframe\">\n",
       "  <thead>\n",
       "    <tr style=\"text-align: right;\">\n",
       "      <th>Ticket_num</th>\n",
       "      <th>0</th>\n",
       "      <th>1</th>\n",
       "    </tr>\n",
       "    <tr>\n",
       "      <th>Survived</th>\n",
       "      <th></th>\n",
       "      <th></th>\n",
       "    </tr>\n",
       "  </thead>\n",
       "  <tbody>\n",
       "    <tr>\n",
       "      <th>0</th>\n",
       "      <td>142</td>\n",
       "      <td>407</td>\n",
       "    </tr>\n",
       "    <tr>\n",
       "      <th>1</th>\n",
       "      <td>88</td>\n",
       "      <td>254</td>\n",
       "    </tr>\n",
       "  </tbody>\n",
       "</table>\n",
       "</div>"
      ],
      "text/plain": [
       "Ticket_num    0    1\n",
       "Survived            \n",
       "0           142  407\n",
       "1            88  254"
      ]
     },
     "execution_count": 12,
     "metadata": {},
     "output_type": "execute_result"
    }
   ],
   "source": [
    "pd.pivot_table(training, index = 'Survived', columns = 'Ticket_num', values = 'Ticket' ,aggfunc ='count')"
   ]
  },
  {
   "cell_type": "code",
   "execution_count": 13,
   "id": "8d52c113",
   "metadata": {
    "execution": {
     "iopub.execute_input": "2021-08-02T09:17:38.617575Z",
     "iopub.status.busy": "2021-08-02T09:17:38.614052Z",
     "iopub.status.idle": "2021-08-02T09:17:38.649532Z",
     "shell.execute_reply": "2021-08-02T09:17:38.648956Z",
     "shell.execute_reply.started": "2021-08-02T08:43:18.786082Z"
    },
    "papermill": {
     "duration": 0.085499,
     "end_time": "2021-08-02T09:17:38.649693",
     "exception": false,
     "start_time": "2021-08-02T09:17:38.564194",
     "status": "completed"
    },
    "tags": []
   },
   "outputs": [
    {
     "data": {
      "text/html": [
       "<div>\n",
       "<style scoped>\n",
       "    .dataframe tbody tr th:only-of-type {\n",
       "        vertical-align: middle;\n",
       "    }\n",
       "\n",
       "    .dataframe tbody tr th {\n",
       "        vertical-align: top;\n",
       "    }\n",
       "\n",
       "    .dataframe thead th {\n",
       "        text-align: right;\n",
       "    }\n",
       "</style>\n",
       "<table border=\"1\" class=\"dataframe\">\n",
       "  <thead>\n",
       "    <tr style=\"text-align: right;\">\n",
       "      <th>Ticket_str</th>\n",
       "      <th></th>\n",
       "      <th>a4</th>\n",
       "      <th>a5</th>\n",
       "      <th>as</th>\n",
       "      <th>c</th>\n",
       "      <th>ca</th>\n",
       "      <th>casoton</th>\n",
       "      <th>fa</th>\n",
       "      <th>fc</th>\n",
       "      <th>fcc</th>\n",
       "      <th>...</th>\n",
       "      <th>soc</th>\n",
       "      <th>sop</th>\n",
       "      <th>sopp</th>\n",
       "      <th>sotono2</th>\n",
       "      <th>sotonoq</th>\n",
       "      <th>sp</th>\n",
       "      <th>stono2</th>\n",
       "      <th>swpp</th>\n",
       "      <th>wc</th>\n",
       "      <th>wep</th>\n",
       "    </tr>\n",
       "    <tr>\n",
       "      <th>Survived</th>\n",
       "      <th></th>\n",
       "      <th></th>\n",
       "      <th></th>\n",
       "      <th></th>\n",
       "      <th></th>\n",
       "      <th></th>\n",
       "      <th></th>\n",
       "      <th></th>\n",
       "      <th></th>\n",
       "      <th></th>\n",
       "      <th></th>\n",
       "      <th></th>\n",
       "      <th></th>\n",
       "      <th></th>\n",
       "      <th></th>\n",
       "      <th></th>\n",
       "      <th></th>\n",
       "      <th></th>\n",
       "      <th></th>\n",
       "      <th></th>\n",
       "      <th></th>\n",
       "    </tr>\n",
       "  </thead>\n",
       "  <tbody>\n",
       "    <tr>\n",
       "      <th>0</th>\n",
       "      <td>410.0</td>\n",
       "      <td>7.0</td>\n",
       "      <td>19.0</td>\n",
       "      <td>1.0</td>\n",
       "      <td>3.0</td>\n",
       "      <td>27.0</td>\n",
       "      <td>1.0</td>\n",
       "      <td>1.0</td>\n",
       "      <td>1.0</td>\n",
       "      <td>1.0</td>\n",
       "      <td>...</td>\n",
       "      <td>5.0</td>\n",
       "      <td>1.0</td>\n",
       "      <td>3.0</td>\n",
       "      <td>2.0</td>\n",
       "      <td>13.0</td>\n",
       "      <td>1.0</td>\n",
       "      <td>10.0</td>\n",
       "      <td>NaN</td>\n",
       "      <td>9.0</td>\n",
       "      <td>2.0</td>\n",
       "    </tr>\n",
       "    <tr>\n",
       "      <th>1</th>\n",
       "      <td>255.0</td>\n",
       "      <td>NaN</td>\n",
       "      <td>2.0</td>\n",
       "      <td>NaN</td>\n",
       "      <td>2.0</td>\n",
       "      <td>14.0</td>\n",
       "      <td>NaN</td>\n",
       "      <td>NaN</td>\n",
       "      <td>NaN</td>\n",
       "      <td>4.0</td>\n",
       "      <td>...</td>\n",
       "      <td>1.0</td>\n",
       "      <td>NaN</td>\n",
       "      <td>NaN</td>\n",
       "      <td>NaN</td>\n",
       "      <td>2.0</td>\n",
       "      <td>NaN</td>\n",
       "      <td>8.0</td>\n",
       "      <td>2.0</td>\n",
       "      <td>1.0</td>\n",
       "      <td>1.0</td>\n",
       "    </tr>\n",
       "  </tbody>\n",
       "</table>\n",
       "<p>2 rows × 29 columns</p>\n",
       "</div>"
      ],
      "text/plain": [
       "Ticket_str          a4    a5   as    c    ca  casoton   fa   fc  fcc  ...  \\\n",
       "Survived                                                              ...   \n",
       "0           410.0  7.0  19.0  1.0  3.0  27.0      1.0  1.0  1.0  1.0  ...   \n",
       "1           255.0  NaN   2.0  NaN  2.0  14.0      NaN  NaN  NaN  4.0  ...   \n",
       "\n",
       "Ticket_str  soc  sop  sopp  sotono2  sotonoq   sp  stono2  swpp   wc  wep  \n",
       "Survived                                                                   \n",
       "0           5.0  1.0   3.0      2.0     13.0  1.0    10.0   NaN  9.0  2.0  \n",
       "1           1.0  NaN   NaN      NaN      2.0  NaN     8.0   2.0  1.0  1.0  \n",
       "\n",
       "[2 rows x 29 columns]"
      ]
     },
     "execution_count": 13,
     "metadata": {},
     "output_type": "execute_result"
    }
   ],
   "source": [
    "pd.pivot_table(training, index = 'Survived', columns = 'Ticket_str', values = 'Ticket' ,aggfunc ='count')"
   ]
  },
  {
   "cell_type": "markdown",
   "id": "de1a6fc4",
   "metadata": {
    "papermill": {
     "duration": 0.043603,
     "end_time": "2021-08-02T09:17:38.738600",
     "exception": false,
     "start_time": "2021-08-02T09:17:38.694997",
     "status": "completed"
    },
    "tags": []
   },
   "source": [
    "**new features breaking down ticket into numeric boolean and the letters on the ticket provide more value than ticket as a whole**\n",
    "\n",
    "**the string portion of the ticket still doesnt show any particular value or relevant correlation to survived**"
   ]
  },
  {
   "cell_type": "code",
   "execution_count": 14,
   "id": "4f51cdae",
   "metadata": {
    "execution": {
     "iopub.execute_input": "2021-08-02T09:17:38.831951Z",
     "iopub.status.busy": "2021-08-02T09:17:38.831280Z",
     "iopub.status.idle": "2021-08-02T09:17:38.834897Z",
     "shell.execute_reply": "2021-08-02T09:17:38.834239Z",
     "shell.execute_reply.started": "2021-08-02T08:43:18.831605Z"
    },
    "papermill": {
     "duration": 0.051519,
     "end_time": "2021-08-02T09:17:38.835048",
     "exception": false,
     "start_time": "2021-08-02T09:17:38.783529",
     "status": "completed"
    },
    "tags": []
   },
   "outputs": [],
   "source": [
    "def get_title(x):\n",
    "    title = x.split(\",\")[1].split('.')[0].strip()\n",
    "    return title"
   ]
  },
  {
   "cell_type": "code",
   "execution_count": 15,
   "id": "114b3707",
   "metadata": {
    "execution": {
     "iopub.execute_input": "2021-08-02T09:17:38.938307Z",
     "iopub.status.busy": "2021-08-02T09:17:38.931404Z",
     "iopub.status.idle": "2021-08-02T09:17:38.964252Z",
     "shell.execute_reply": "2021-08-02T09:17:38.963621Z",
     "shell.execute_reply.started": "2021-08-02T08:43:18.839421Z"
    },
    "papermill": {
     "duration": 0.086326,
     "end_time": "2021-08-02T09:17:38.964391",
     "exception": false,
     "start_time": "2021-08-02T09:17:38.878065",
     "status": "completed"
    },
    "tags": []
   },
   "outputs": [
    {
     "data": {
      "text/html": [
       "<div>\n",
       "<style scoped>\n",
       "    .dataframe tbody tr th:only-of-type {\n",
       "        vertical-align: middle;\n",
       "    }\n",
       "\n",
       "    .dataframe tbody tr th {\n",
       "        vertical-align: top;\n",
       "    }\n",
       "\n",
       "    .dataframe thead th {\n",
       "        text-align: right;\n",
       "    }\n",
       "</style>\n",
       "<table border=\"1\" class=\"dataframe\">\n",
       "  <thead>\n",
       "    <tr style=\"text-align: right;\">\n",
       "      <th>Title</th>\n",
       "      <th>Capt</th>\n",
       "      <th>Col</th>\n",
       "      <th>Don</th>\n",
       "      <th>Dr</th>\n",
       "      <th>Jonkheer</th>\n",
       "      <th>Lady</th>\n",
       "      <th>Major</th>\n",
       "      <th>Master</th>\n",
       "      <th>Miss</th>\n",
       "      <th>Mlle</th>\n",
       "      <th>Mme</th>\n",
       "      <th>Mr</th>\n",
       "      <th>Mrs</th>\n",
       "      <th>Ms</th>\n",
       "      <th>Rev</th>\n",
       "      <th>Sir</th>\n",
       "      <th>the Countess</th>\n",
       "    </tr>\n",
       "    <tr>\n",
       "      <th>Survived</th>\n",
       "      <th></th>\n",
       "      <th></th>\n",
       "      <th></th>\n",
       "      <th></th>\n",
       "      <th></th>\n",
       "      <th></th>\n",
       "      <th></th>\n",
       "      <th></th>\n",
       "      <th></th>\n",
       "      <th></th>\n",
       "      <th></th>\n",
       "      <th></th>\n",
       "      <th></th>\n",
       "      <th></th>\n",
       "      <th></th>\n",
       "      <th></th>\n",
       "      <th></th>\n",
       "    </tr>\n",
       "  </thead>\n",
       "  <tbody>\n",
       "    <tr>\n",
       "      <th>0</th>\n",
       "      <td>1.0</td>\n",
       "      <td>1.0</td>\n",
       "      <td>1.0</td>\n",
       "      <td>4.0</td>\n",
       "      <td>1.0</td>\n",
       "      <td>NaN</td>\n",
       "      <td>1.0</td>\n",
       "      <td>17.0</td>\n",
       "      <td>55.0</td>\n",
       "      <td>NaN</td>\n",
       "      <td>NaN</td>\n",
       "      <td>436.0</td>\n",
       "      <td>26.0</td>\n",
       "      <td>NaN</td>\n",
       "      <td>6.0</td>\n",
       "      <td>NaN</td>\n",
       "      <td>NaN</td>\n",
       "    </tr>\n",
       "    <tr>\n",
       "      <th>1</th>\n",
       "      <td>NaN</td>\n",
       "      <td>1.0</td>\n",
       "      <td>NaN</td>\n",
       "      <td>3.0</td>\n",
       "      <td>NaN</td>\n",
       "      <td>1.0</td>\n",
       "      <td>1.0</td>\n",
       "      <td>23.0</td>\n",
       "      <td>127.0</td>\n",
       "      <td>2.0</td>\n",
       "      <td>1.0</td>\n",
       "      <td>81.0</td>\n",
       "      <td>99.0</td>\n",
       "      <td>1.0</td>\n",
       "      <td>NaN</td>\n",
       "      <td>1.0</td>\n",
       "      <td>1.0</td>\n",
       "    </tr>\n",
       "  </tbody>\n",
       "</table>\n",
       "</div>"
      ],
      "text/plain": [
       "Title     Capt  Col  Don   Dr  Jonkheer  Lady  Major  Master   Miss  Mlle  \\\n",
       "Survived                                                                    \n",
       "0          1.0  1.0  1.0  4.0       1.0   NaN    1.0    17.0   55.0   NaN   \n",
       "1          NaN  1.0  NaN  3.0       NaN   1.0    1.0    23.0  127.0   2.0   \n",
       "\n",
       "Title     Mme     Mr   Mrs   Ms  Rev  Sir  the Countess  \n",
       "Survived                                                 \n",
       "0         NaN  436.0  26.0  NaN  6.0  NaN           NaN  \n",
       "1         1.0   81.0  99.0  1.0  NaN  1.0           1.0  "
      ]
     },
     "execution_count": 15,
     "metadata": {},
     "output_type": "execute_result"
    }
   ],
   "source": [
    "training['Title'] = training.Name.apply(get_title)\n",
    "pd.pivot_table(training, index = 'Survived', columns = 'Title', values = 'Ticket' ,aggfunc ='count')"
   ]
  },
  {
   "cell_type": "markdown",
   "id": "7adb323c",
   "metadata": {
    "papermill": {
     "duration": 0.044898,
     "end_time": "2021-08-02T09:17:39.053341",
     "exception": false,
     "start_time": "2021-08-02T09:17:39.008443",
     "status": "completed"
    },
    "tags": []
   },
   "source": [
    "new feature Title shows strong correlation with survived, making this a valuable addition\n",
    "\n",
    "having explored the data, only certain variables are now useful for predicting survived including:\n",
    "\n",
    "* title, ticket_num, cabin_let, cabin_mul, pclass, embarked, sex, fare, age, parch, sibsp\n",
    "\n"
   ]
  },
  {
   "cell_type": "markdown",
   "id": "b737eedc",
   "metadata": {
    "papermill": {
     "duration": 0.043364,
     "end_time": "2021-08-02T09:17:39.140795",
     "exception": false,
     "start_time": "2021-08-02T09:17:39.097431",
     "status": "completed"
    },
    "tags": []
   },
   "source": [
    "## 3) Data preprocessing"
   ]
  },
  {
   "cell_type": "code",
   "execution_count": 16,
   "id": "375bc3ff",
   "metadata": {
    "execution": {
     "iopub.execute_input": "2021-08-02T09:17:39.249817Z",
     "iopub.status.busy": "2021-08-02T09:17:39.241469Z",
     "iopub.status.idle": "2021-08-02T09:17:39.282081Z",
     "shell.execute_reply": "2021-08-02T09:17:39.282631Z",
     "shell.execute_reply.started": "2021-08-02T08:58:28.880487Z"
    },
    "papermill": {
     "duration": 0.098484,
     "end_time": "2021-08-02T09:17:39.282846",
     "exception": false,
     "start_time": "2021-08-02T09:17:39.184362",
     "status": "completed"
    },
    "tags": []
   },
   "outputs": [],
   "source": [
    "training['train_test'] = 1\n",
    "test['train_test'] = 0\n",
    "test['Survived'] = np.NaN\n",
    "\n",
    "all_data = pd.concat([training, test])\n",
    "\n",
    "all_data.dropna(subset=['Embarked'],inplace = True)\n",
    "\n",
    "all_data.Age = all_data.Age.fillna(training.Age.median())\n",
    "all_data.Fare = all_data.Fare.fillna(training.Fare.median())\n",
    "\n",
    "all_data['norm_fare'] = np.log(all_data.Fare+1)\n",
    "\n",
    "all_data['Cabin_mul'] = all_data.Cabin.apply(lam)\n",
    "all_data['Cabin_let'] = all_data['Cabin'].apply(lam2)\n",
    "all_data['Ticket_str'] = all_data['Ticket'].apply(ticket_str)\n",
    "all_data['Ticket_num'] = all_data['Ticket'].apply(ticket_num)\n",
    "all_data['Title'] = all_data.Name.apply(get_title)\n",
    "\n",
    "\n",
    "all_dummies = pd.get_dummies(all_data[['Pclass','Sex','Age','SibSp','Parch','norm_fare',\n",
    "                                       'Embarked','Cabin_let','Cabin_mul','Ticket_num','Title','train_test']])\n",
    "\n",
    "x_train = all_dummies[all_dummies.train_test == 1].drop(['train_test'], axis =1)\n",
    "x_test = all_dummies[all_dummies.train_test == 0].drop(['train_test'], axis =1)\n",
    "\n",
    "y_train = all_data[all_data.train_test==1].Survived"
   ]
  },
  {
   "cell_type": "code",
   "execution_count": 17,
   "id": "6ebe83b5",
   "metadata": {
    "execution": {
     "iopub.execute_input": "2021-08-02T09:17:39.378271Z",
     "iopub.status.busy": "2021-08-02T09:17:39.377580Z",
     "iopub.status.idle": "2021-08-02T09:17:40.259143Z",
     "shell.execute_reply": "2021-08-02T09:17:40.258562Z",
     "shell.execute_reply.started": "2021-08-02T08:59:25.687710Z"
    },
    "papermill": {
     "duration": 0.932811,
     "end_time": "2021-08-02T09:17:40.259299",
     "exception": false,
     "start_time": "2021-08-02T09:17:39.326488",
     "status": "completed"
    },
    "tags": []
   },
   "outputs": [],
   "source": [
    "from sklearn.preprocessing import StandardScaler\n",
    "\n",
    "scale = StandardScaler()\n",
    "all_dummies_scaled = all_dummies.copy()\n",
    "all_dummies_scaled[['Age', 'SibSp', 'Parch', 'norm_fare']]= scale.fit_transform(all_dummies_scaled[['Age', 'SibSp', 'Parch', 'norm_fare']])\n",
    "\n",
    "x_train_scaled = all_dummies_scaled[all_dummies_scaled.train_test == 1].drop(['train_test'], axis =1)\n",
    "x_test_scaled = all_dummies_scaled[all_dummies_scaled.train_test == 0].drop(['train_test'], axis =1)\n",
    "\n",
    "y_train = all_data[all_data.train_test==1].Survived"
   ]
  },
  {
   "cell_type": "markdown",
   "id": "9f01c7bc",
   "metadata": {
    "papermill": {
     "duration": 0.043877,
     "end_time": "2021-08-02T09:17:40.347784",
     "exception": false,
     "start_time": "2021-08-02T09:17:40.303907",
     "status": "completed"
    },
    "tags": []
   },
   "source": [
    "## 4) Model building"
   ]
  },
  {
   "cell_type": "code",
   "execution_count": 18,
   "id": "823ed030",
   "metadata": {
    "execution": {
     "iopub.execute_input": "2021-08-02T09:17:40.440079Z",
     "iopub.status.busy": "2021-08-02T09:17:40.439385Z",
     "iopub.status.idle": "2021-08-02T09:17:40.635478Z",
     "shell.execute_reply": "2021-08-02T09:17:40.634402Z",
     "shell.execute_reply.started": "2021-08-02T08:59:29.200884Z"
    },
    "papermill": {
     "duration": 0.244006,
     "end_time": "2021-08-02T09:17:40.635645",
     "exception": false,
     "start_time": "2021-08-02T09:17:40.391639",
     "status": "completed"
    },
    "tags": []
   },
   "outputs": [],
   "source": [
    "from sklearn.model_selection import cross_val_score\n",
    "from sklearn.linear_model import LogisticRegression\n",
    "from sklearn.svm import SVC\n",
    "from sklearn.neighbors import KNeighborsClassifier"
   ]
  },
  {
   "cell_type": "code",
   "execution_count": 19,
   "id": "91f9b7e4",
   "metadata": {
    "execution": {
     "iopub.execute_input": "2021-08-02T09:17:40.728272Z",
     "iopub.status.busy": "2021-08-02T09:17:40.727592Z",
     "iopub.status.idle": "2021-08-02T09:17:41.169387Z",
     "shell.execute_reply": "2021-08-02T09:17:41.171299Z",
     "shell.execute_reply.started": "2021-08-02T08:59:30.794638Z"
    },
    "papermill": {
     "duration": 0.492668,
     "end_time": "2021-08-02T09:17:41.171708",
     "exception": false,
     "start_time": "2021-08-02T09:17:40.679040",
     "status": "completed"
    },
    "tags": []
   },
   "outputs": [
    {
     "name": "stdout",
     "output_type": "stream",
     "text": [
      "[0.80898876 0.81460674 0.80337079 0.82022472 0.85310734]\n",
      "82.00596711737447\n"
     ]
    }
   ],
   "source": [
    "lr = LogisticRegression(max_iter = 1500)\n",
    "cv = cross_val_score(lr, x_train_scaled, y_train, cv=5)\n",
    "print(cv)\n",
    "print(cv.mean()*100)"
   ]
  },
  {
   "cell_type": "code",
   "execution_count": 20,
   "id": "0ea56382",
   "metadata": {
    "execution": {
     "iopub.execute_input": "2021-08-02T09:17:41.312212Z",
     "iopub.status.busy": "2021-08-02T09:17:41.311227Z",
     "iopub.status.idle": "2021-08-02T09:17:42.044865Z",
     "shell.execute_reply": "2021-08-02T09:17:42.043781Z",
     "shell.execute_reply.started": "2021-08-02T08:59:34.020217Z"
    },
    "papermill": {
     "duration": 0.79481,
     "end_time": "2021-08-02T09:17:42.045147",
     "exception": false,
     "start_time": "2021-08-02T09:17:41.250337",
     "status": "completed"
    },
    "tags": []
   },
   "outputs": [
    {
     "name": "stdout",
     "output_type": "stream",
     "text": [
      "[0.83707865 0.8258427  0.8258427  0.79775281 0.85875706]\n",
      "82.90547832158953\n"
     ]
    }
   ],
   "source": [
    "svc = SVC(probability = True)\n",
    "cv = cross_val_score(svc, x_train_scaled, y_train, cv=5)\n",
    "print(cv)\n",
    "print(cv.mean()*100)"
   ]
  },
  {
   "cell_type": "code",
   "execution_count": 21,
   "id": "3464ac95",
   "metadata": {
    "execution": {
     "iopub.execute_input": "2021-08-02T09:17:42.141178Z",
     "iopub.status.busy": "2021-08-02T09:17:42.140481Z",
     "iopub.status.idle": "2021-08-02T09:17:42.257335Z",
     "shell.execute_reply": "2021-08-02T09:17:42.256781Z",
     "shell.execute_reply.started": "2021-08-02T08:59:36.492334Z"
    },
    "papermill": {
     "duration": 0.167223,
     "end_time": "2021-08-02T09:17:42.257488",
     "exception": false,
     "start_time": "2021-08-02T09:17:42.090265",
     "status": "completed"
    },
    "tags": []
   },
   "outputs": [
    {
     "name": "stdout",
     "output_type": "stream",
     "text": [
      "[0.79775281 0.79213483 0.83707865 0.79775281 0.85310734]\n",
      "81.55652891512727\n"
     ]
    }
   ],
   "source": [
    "knn = KNeighborsClassifier()\n",
    "cv = cross_val_score(knn,x_train_scaled,y_train,cv=5)\n",
    "print(cv)\n",
    "print(cv.mean()*100)"
   ]
  },
  {
   "cell_type": "code",
   "execution_count": 22,
   "id": "a3e9540b",
   "metadata": {
    "execution": {
     "iopub.execute_input": "2021-08-02T09:17:42.353214Z",
     "iopub.status.busy": "2021-08-02T09:17:42.352456Z",
     "iopub.status.idle": "2021-08-02T09:17:43.867273Z",
     "shell.execute_reply": "2021-08-02T09:17:43.867810Z",
     "shell.execute_reply.started": "2021-08-02T08:59:40.816971Z"
    },
    "papermill": {
     "duration": 1.565642,
     "end_time": "2021-08-02T09:17:43.867988",
     "exception": false,
     "start_time": "2021-08-02T09:17:42.302346",
     "status": "completed"
    },
    "tags": []
   },
   "outputs": [
    {
     "name": "stdout",
     "output_type": "stream",
     "text": [
      "[0.8258427  0.8258427  0.83146067 0.79775281 0.85875706]\n",
      "82.79311877102774\n"
     ]
    }
   ],
   "source": [
    "from sklearn.ensemble import VotingClassifier\n",
    "voting_clf = VotingClassifier(estimators = [('lr',lr), ('knn',knn), ('svc',svc)], voting = 'soft') \n",
    "\n",
    "cv = cross_val_score(voting_clf, x_train_scaled, y_train, cv=5)\n",
    "print(cv)\n",
    "print(cv.mean()*100)"
   ]
  },
  {
   "cell_type": "markdown",
   "id": "09d1b956",
   "metadata": {
    "papermill": {
     "duration": 0.044896,
     "end_time": "2021-08-02T09:17:43.958198",
     "exception": false,
     "start_time": "2021-08-02T09:17:43.913302",
     "status": "completed"
    },
    "tags": []
   },
   "source": [
    "in a soft voting classifier, each model return their respective confidence on survival of given data"
   ]
  },
  {
   "cell_type": "markdown",
   "id": "dd8d440b",
   "metadata": {
    "papermill": {
     "duration": 0.045889,
     "end_time": "2021-08-02T09:17:44.048734",
     "exception": false,
     "start_time": "2021-08-02T09:17:44.002845",
     "status": "completed"
    },
    "tags": []
   },
   "source": [
    "## 5) Model tuning"
   ]
  },
  {
   "cell_type": "code",
   "execution_count": 23,
   "id": "fb4f0c28",
   "metadata": {
    "execution": {
     "iopub.execute_input": "2021-08-02T09:17:44.142721Z",
     "iopub.status.busy": "2021-08-02T09:17:44.142052Z",
     "iopub.status.idle": "2021-08-02T09:17:44.144981Z",
     "shell.execute_reply": "2021-08-02T09:17:44.144463Z",
     "shell.execute_reply.started": "2021-08-02T08:59:46.012323Z"
    },
    "papermill": {
     "duration": 0.051524,
     "end_time": "2021-08-02T09:17:44.145124",
     "exception": false,
     "start_time": "2021-08-02T09:17:44.093600",
     "status": "completed"
    },
    "tags": []
   },
   "outputs": [],
   "source": [
    "from sklearn.model_selection import GridSearchCV \n",
    "from sklearn.model_selection import RandomizedSearchCV "
   ]
  },
  {
   "cell_type": "code",
   "execution_count": 24,
   "id": "952324ac",
   "metadata": {
    "execution": {
     "iopub.execute_input": "2021-08-02T09:17:44.239502Z",
     "iopub.status.busy": "2021-08-02T09:17:44.238893Z",
     "iopub.status.idle": "2021-08-02T09:17:44.242152Z",
     "shell.execute_reply": "2021-08-02T09:17:44.241540Z",
     "shell.execute_reply.started": "2021-08-02T08:59:53.097928Z"
    },
    "papermill": {
     "duration": 0.052515,
     "end_time": "2021-08-02T09:17:44.242313",
     "exception": false,
     "start_time": "2021-08-02T09:17:44.189798",
     "status": "completed"
    },
    "tags": []
   },
   "outputs": [],
   "source": [
    "def clf_performance(classifier, model_name):\n",
    "    print(model_name)\n",
    "    print('Best Score: ' + str(classifier.best_score_))\n",
    "    print('Best Parameters: ' + str(classifier.best_params_))"
   ]
  },
  {
   "cell_type": "code",
   "execution_count": 25,
   "id": "73f90e22",
   "metadata": {
    "execution": {
     "iopub.execute_input": "2021-08-02T09:17:44.338984Z",
     "iopub.status.busy": "2021-08-02T09:17:44.338333Z",
     "iopub.status.idle": "2021-08-02T09:17:48.637303Z",
     "shell.execute_reply": "2021-08-02T09:17:48.637800Z",
     "shell.execute_reply.started": "2021-08-02T08:59:58.468289Z"
    },
    "papermill": {
     "duration": 4.350769,
     "end_time": "2021-08-02T09:17:48.637974",
     "exception": false,
     "start_time": "2021-08-02T09:17:44.287205",
     "status": "completed"
    },
    "tags": []
   },
   "outputs": [
    {
     "name": "stdout",
     "output_type": "stream",
     "text": [
      "Fitting 5 folds for each of 40 candidates, totalling 200 fits\n"
     ]
    },
    {
     "name": "stderr",
     "output_type": "stream",
     "text": [
      "[Parallel(n_jobs=-1)]: Using backend LokyBackend with 4 concurrent workers.\n",
      "[Parallel(n_jobs=-1)]: Done  68 tasks      | elapsed:    2.6s\n"
     ]
    },
    {
     "name": "stdout",
     "output_type": "stream",
     "text": [
      "Logistic Regression\n",
      "Best Score: 0.8223132101821875\n",
      "Best Parameters: {'C': 29.763514416313132, 'max_iter': 2000, 'penalty': 'l1', 'solver': 'liblinear'}\n"
     ]
    },
    {
     "name": "stderr",
     "output_type": "stream",
     "text": [
      "[Parallel(n_jobs=-1)]: Done 200 out of 200 | elapsed:    4.2s finished\n"
     ]
    }
   ],
   "source": [
    "lr = LogisticRegression()\n",
    "param_grid = {'max_iter' : [2000],\n",
    "              'penalty' : ['l1', 'l2'],\n",
    "              'C' : np.logspace(-4, 4, 20),\n",
    "              'solver' : ['liblinear']}\n",
    "\n",
    "clf_lr = GridSearchCV(lr, param_grid = param_grid, cv = 5, verbose = True, n_jobs = -1)\n",
    "best_clf_lr = clf_lr.fit(x_train_scaled,y_train)\n",
    "clf_performance(best_clf_lr,'Logistic Regression')"
   ]
  },
  {
   "cell_type": "code",
   "execution_count": 26,
   "id": "1de25b53",
   "metadata": {
    "execution": {
     "iopub.execute_input": "2021-08-02T09:17:48.739754Z",
     "iopub.status.busy": "2021-08-02T09:17:48.738854Z",
     "iopub.status.idle": "2021-08-02T09:17:50.713545Z",
     "shell.execute_reply": "2021-08-02T09:17:50.712813Z",
     "shell.execute_reply.started": "2021-08-02T09:00:07.848683Z"
    },
    "papermill": {
     "duration": 2.029128,
     "end_time": "2021-08-02T09:17:50.713779",
     "exception": false,
     "start_time": "2021-08-02T09:17:48.684651",
     "status": "completed"
    },
    "tags": []
   },
   "outputs": [
    {
     "name": "stderr",
     "output_type": "stream",
     "text": [
      "[Parallel(n_jobs=-1)]: Using backend LokyBackend with 4 concurrent workers.\n"
     ]
    },
    {
     "name": "stdout",
     "output_type": "stream",
     "text": [
      "Fitting 5 folds for each of 48 candidates, totalling 240 fits\n"
     ]
    },
    {
     "name": "stderr",
     "output_type": "stream",
     "text": [
      "[Parallel(n_jobs=-1)]: Done 200 tasks      | elapsed:    1.7s\n"
     ]
    },
    {
     "name": "stdout",
     "output_type": "stream",
     "text": [
      "KNN\n",
      "Best Score: 0.826769504221418\n",
      "Best Parameters: {'algorithm': 'auto', 'n_neighbors': 9, 'p': 2, 'weights': 'uniform'}\n"
     ]
    },
    {
     "name": "stderr",
     "output_type": "stream",
     "text": [
      "[Parallel(n_jobs=-1)]: Done 240 out of 240 | elapsed:    2.0s finished\n"
     ]
    }
   ],
   "source": [
    "knn = KNeighborsClassifier()\n",
    "param_grid = {'n_neighbors' : [3,5,7,9],\n",
    "              'weights' : ['uniform', 'distance'],\n",
    "              'algorithm' : ['auto', 'ball_tree','kd_tree'],\n",
    "              'p' : [1,2]}\n",
    "clf_knn = GridSearchCV(knn, param_grid = param_grid, cv = 5, verbose = True, n_jobs = -1)\n",
    "best_clf_knn = clf_knn.fit(x_train_scaled,y_train)\n",
    "clf_performance(best_clf_knn,'KNN')"
   ]
  },
  {
   "cell_type": "code",
   "execution_count": 27,
   "id": "f897bf12",
   "metadata": {
    "execution": {
     "iopub.execute_input": "2021-08-02T09:17:50.827141Z",
     "iopub.status.busy": "2021-08-02T09:17:50.826129Z",
     "iopub.status.idle": "2021-08-02T09:21:00.783885Z",
     "shell.execute_reply": "2021-08-02T09:21:00.783092Z",
     "shell.execute_reply.started": "2021-08-02T09:00:16.213807Z"
    },
    "papermill": {
     "duration": 190.020027,
     "end_time": "2021-08-02T09:21:00.784056",
     "exception": false,
     "start_time": "2021-08-02T09:17:50.764029",
     "status": "completed"
    },
    "tags": []
   },
   "outputs": [
    {
     "name": "stderr",
     "output_type": "stream",
     "text": [
      "[Parallel(n_jobs=-1)]: Using backend LokyBackend with 4 concurrent workers.\n"
     ]
    },
    {
     "name": "stdout",
     "output_type": "stream",
     "text": [
      "Fitting 5 folds for each of 55 candidates, totalling 275 fits\n"
     ]
    },
    {
     "name": "stderr",
     "output_type": "stream",
     "text": [
      "[Parallel(n_jobs=-1)]: Done  42 tasks      | elapsed:    2.9s\n",
      "[Parallel(n_jobs=-1)]: Done 192 tasks      | elapsed:  1.5min\n",
      "[Parallel(n_jobs=-1)]: Done 275 out of 275 | elapsed:  3.2min finished\n"
     ]
    },
    {
     "name": "stdout",
     "output_type": "stream",
     "text": [
      "SVC\n",
      "Best Score: 0.8290547832158953\n",
      "Best Parameters: {'C': 1, 'gamma': 0.1, 'kernel': 'rbf'}\n"
     ]
    }
   ],
   "source": [
    "svc = SVC(probability = True)\n",
    "param_grid = tuned_parameters = [{'kernel': ['rbf'], 'gamma': [.1,.5,1,2,5,10],\n",
    "                                  'C': [.1, 1, 10, 100, 1000]},\n",
    "                                 {'kernel': ['linear'], 'C': [.1, 1, 10, 100, 1000]},\n",
    "                                 {'kernel': ['poly'], 'degree' : [2,3,4,5], 'C': [.1, 1, 10, 100, 1000]}]\n",
    "clf_svc = GridSearchCV(svc, param_grid = param_grid, cv = 5, verbose = True, n_jobs = -1)\n",
    "best_clf_svc = clf_svc.fit(x_train_scaled,y_train)\n",
    "clf_performance(best_clf_svc,'SVC')"
   ]
  },
  {
   "cell_type": "markdown",
   "id": "4f866b8b",
   "metadata": {
    "papermill": {
     "duration": 0.05162,
     "end_time": "2021-08-02T09:21:00.887346",
     "exception": false,
     "start_time": "2021-08-02T09:21:00.835726",
     "status": "completed"
    },
    "tags": []
   },
   "source": [
    "after tuning, the support vector classifier shows the greatest cross validation performance, analysis of these models is further require to understand bias and variance"
   ]
  },
  {
   "cell_type": "code",
   "execution_count": 28,
   "id": "c0a5fb25",
   "metadata": {
    "execution": {
     "iopub.execute_input": "2021-08-02T09:21:00.999851Z",
     "iopub.status.busy": "2021-08-02T09:21:00.999113Z",
     "iopub.status.idle": "2021-08-02T09:21:04.268813Z",
     "shell.execute_reply": "2021-08-02T09:21:04.268149Z",
     "shell.execute_reply.started": "2021-08-02T09:06:47.410214Z"
    },
    "papermill": {
     "duration": 3.330035,
     "end_time": "2021-08-02T09:21:04.268959",
     "exception": false,
     "start_time": "2021-08-02T09:21:00.938924",
     "status": "completed"
    },
    "tags": []
   },
   "outputs": [
    {
     "name": "stdout",
     "output_type": "stream",
     "text": [
      "voting_clf_hard mean : 0.7930552910556719\n",
      "voting_clf_soft mean : 0.7998222560782072\n",
      "voting_clf_all mean : 0.8178061321653018\n"
     ]
    }
   ],
   "source": [
    "best_lr = best_clf_lr.best_estimator_\n",
    "best_knn = best_clf_knn.best_estimator_\n",
    "best_svc = best_clf_svc.best_estimator_\n",
    "\n",
    "voting_clf_hard = VotingClassifier(estimators = [('knn',best_knn),('svc',best_svc)], voting = 'hard') \n",
    "voting_clf_soft = VotingClassifier(estimators = [('knn',best_knn),('svc',best_svc)], voting = 'soft') \n",
    "voting_clf_all = VotingClassifier(estimators = [('knn',best_knn),('svc',best_svc), ('lr', best_lr)], voting = 'soft') \n",
    "\n",
    "print('voting_clf_hard mean :',cross_val_score(voting_clf_hard,x_train,y_train,cv=5).mean())\n",
    "\n",
    "print('voting_clf_soft mean :',cross_val_score(voting_clf_soft,x_train,y_train,cv=5).mean())\n",
    "\n",
    "print('voting_clf_all mean :',cross_val_score(voting_clf_all,x_train,y_train,cv=5).mean())"
   ]
  },
  {
   "cell_type": "code",
   "execution_count": 29,
   "id": "f924ef3c",
   "metadata": {
    "execution": {
     "iopub.execute_input": "2021-08-02T09:21:04.384687Z",
     "iopub.status.busy": "2021-08-02T09:21:04.383989Z",
     "iopub.status.idle": "2021-08-02T09:21:05.227564Z",
     "shell.execute_reply": "2021-08-02T09:21:05.228417Z",
     "shell.execute_reply.started": "2021-08-02T09:06:58.605309Z"
    },
    "papermill": {
     "duration": 0.904846,
     "end_time": "2021-08-02T09:21:05.228681",
     "exception": false,
     "start_time": "2021-08-02T09:21:04.323835",
     "status": "completed"
    },
    "tags": []
   },
   "outputs": [],
   "source": [
    "voting_clf_hard.fit(x_train_scaled, y_train)\n",
    "voting_clf_soft.fit(x_train_scaled, y_train)\n",
    "voting_clf_all.fit(x_train_scaled, y_train)\n",
    "\n",
    "y_hat_vc_hard = voting_clf_hard.predict(x_test_scaled).astype(int)\n",
    "y_hat_vc_soft = voting_clf_soft.predict(x_test_scaled).astype(int)\n",
    "y_hat_vc_all = voting_clf_all.predict(x_test_scaled).astype(int)"
   ]
  },
  {
   "cell_type": "code",
   "execution_count": 30,
   "id": "2882532a",
   "metadata": {
    "execution": {
     "iopub.execute_input": "2021-08-02T09:21:05.393480Z",
     "iopub.status.busy": "2021-08-02T09:21:05.392750Z",
     "iopub.status.idle": "2021-08-02T09:21:05.405056Z",
     "shell.execute_reply": "2021-08-02T09:21:05.404482Z",
     "shell.execute_reply.started": "2021-08-02T09:15:16.671008Z"
    },
    "papermill": {
     "duration": 0.081497,
     "end_time": "2021-08-02T09:21:05.405207",
     "exception": false,
     "start_time": "2021-08-02T09:21:05.323710",
     "status": "completed"
    },
    "tags": []
   },
   "outputs": [],
   "source": [
    "final_data = {'PassengerId': test.PassengerId, 'Survived': y_hat_vc_hard}\n",
    "submission = pd.DataFrame(data=final_data)\n",
    "\n",
    "final_data_2= {'PassengerId': test.PassengerId, 'Survived': y_hat_vc_soft}\n",
    "submission_2= pd.DataFrame(data=final_data_2)\n",
    "\n",
    "final_data_3= {'PassengerId': test.PassengerId, 'Survived': y_hat_vc_all}\n",
    "submission_3= pd.DataFrame(data=final_data_3)\n",
    "\n",
    "submission.to_csv('submission_vc_hard.csv',index=False)\n",
    "submission_2.to_csv('submission_vc_soft.csv', index=False)\n",
    "submission_3.to_csv('submission_vc_all.csv', index=False)"
   ]
  }
 ],
 "metadata": {
  "kernelspec": {
   "display_name": "Python 3",
   "language": "python",
   "name": "python3"
  },
  "language_info": {
   "codemirror_mode": {
    "name": "ipython",
    "version": 3
   },
   "file_extension": ".py",
   "mimetype": "text/x-python",
   "name": "python",
   "nbconvert_exporter": "python",
   "pygments_lexer": "ipython3",
   "version": "3.7.10"
  },
  "papermill": {
   "default_parameters": {},
   "duration": 232.955549,
   "end_time": "2021-08-02T09:21:07.096868",
   "environment_variables": {},
   "exception": null,
   "input_path": "__notebook__.ipynb",
   "output_path": "__notebook__.ipynb",
   "parameters": {},
   "start_time": "2021-08-02T09:17:14.141319",
   "version": "2.3.3"
  }
 },
 "nbformat": 4,
 "nbformat_minor": 5
}
